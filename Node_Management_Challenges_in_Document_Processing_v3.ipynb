{
  "nbformat": 4,
  "nbformat_minor": 0,
  "metadata": {
    "colab": {
      "provenance": []
    },
    "kernelspec": {
      "name": "python3",
      "display_name": "Python 3"
    },
    "language_info": {
      "name": "python"
    }
  },
  "cells": [
    {
      "cell_type": "code",
      "execution_count": null,
      "metadata": {
        "id": "wd8tz4YmOm1s"
      },
      "outputs": [],
      "source": []
    },
    {
      "cell_type": "markdown",
      "source": [
        "# On Document Processing: Hybrid Data Density in Document Processing:\n",
        "- note: [issues with 'chunking' vs. 'window' paradigms]\n",
        "## Fields and Levels\n",
        "### Level 1. Extraction Layer: Row Fields [plural in lists]\n",
        "- raw data\n",
        "- text (e.g. unicode)\n",
        "- ascii text\n",
        "- [metrics]\n",
        "- [structured data and metadata (e.g. contextual metadata) profile field columns]\n",
        "- [subsymbolic matrix vectors ('embedding vectors'), ideally multiple types]\n",
        "- [graph data [nodes],[edges]]\n",
        "-\n",
        "### Level 2: Derived Layers: modeling the rows and collumns\n",
        "A. GOFAI: ELIZA, SHRDLU, etc. (1950-2000)\n",
        "B. statistical learning, reinforcement, GA, etc. (1990-2010) (or 1750-2010)\n",
        "C. narrow deep learning (~2010-2020) (or 1940-2020)\n",
        "D. foundation models (2015/2020-?????)\n",
        "E. ? (?-?)\n",
        "etc.\n",
        "\n",
        "\n",
        "\n",
        "(2024 11)\n",
        "## Standards for production data handling\n",
        "- modular\n",
        "- incrimental processing\n",
        "- incrimental search/query\n",
        "- EDA accessibility (exploratory data analysis)\n",
        "- non-hidden\n",
        "- 'vanilla' is better than 3rd party\n",
        "\n",
        "\n",
        "\n",
        "## The Functionality of Base-256 Data Level\n",
        "- 'Counting'\n",
        "- Normalization\n",
        "- The Non-Computer-Science-Design of Scientific-Notation and The Historical Problem of Float-Math\n",
        "-\n"
      ],
      "metadata": {
        "id": "Y2em8AsQOt94"
      }
    },
    {
      "cell_type": "markdown",
      "source": [
        "# Provisional Utility\n",
        "\n",
        "Graphs, like biological philogenies, may be inherently imperfect instrumentalist constructions not to be (overly) reified that notwithstanding are significantly better to pragmatically have than to puritanically be without.\n",
        "\n",
        "- At a Glance\n",
        "\n",
        "###  Utilitarian Non-Absolute Gamification\n",
        "One aspect of navigating through data may be making quick imperfect navigation choices that may in some way relate to random walk and mapping-protocols in biology. Like the manifold-hypothesis itself, reducing the dimensionality of the space may be feature-function of higher value and sequential priority than the quality of the lower-dimensionalization. Indeed, if random-walk-gamification or lower-dimensionalitization is cheap-enough and effective enough to incriment-on and improve: the goal may be to have a sufficintly random-bad but cheap-rapid simplification that allows you to move forward in a way that in the long term and bigger picture is a move from a pragmatically random matrix-walk to a pragmatically meaingful matrix-walk.\n",
        "\n",
        "\n",
        "## Context: Issues and Challenges in Node and Edge Definition: The Phylogenist's Delemma\n",
        "\n",
        "The idea of a context-free graph(node,edge) represendation of an unstructured (or perahaps even structured) corpus, document, or noun-thing, may be a self-precluding definition problem.\n",
        "\n",
        "And context-free graphs may be required to be extremely vague and simplistic.\n",
        "\n",
        "Any graph representation, even a contextual one, may be inherently arbitrary, fuzzy, and imperfect (e.g. unresolvable lumper-splitter decisions in defining nodes)\n",
        "\n",
        "## Biology & Non-MonoPhyletic Groups"
      ],
      "metadata": {
        "id": "8Z6nl8d5O6gr"
      }
    },
    {
      "cell_type": "markdown",
      "source": [
        "# The classic case of food-cooking recipe document management.\n",
        "\n"
      ],
      "metadata": {
        "id": "Os0B5URsQgs_"
      }
    },
    {
      "cell_type": "markdown",
      "source": [
        "# Node Management\n",
        "\n",
        "## Scale and Strategies of attempting to manage node-definition-drift:\n",
        "- idea: nodes themselves should have descriptive metadata and be defined by a vector in subsymbolic-meaning-concept-matrix space, with an arbitrariliy defined distance threshold (radius?) defining inclusion within that Node,\n",
        "such that if two nodes are defined that are significantly 'close' or similar, they become merged (possibly refining the node definition and vector); likewise two invocations of the same node if described significatly differently must be two separate nodes even if the superficial title sounds the same.\n",
        "\n",
        "Using vector distance to define nodes may allow for an incrimental and modular approach that overcomes some of the problems of having such a large number of nodes that they cannot be handled pragmantically and coherently together: e.g. a prompt that says: does new-node-A match anything in this list [], if the list is too big to fit into the context window that's a no-go.\n",
        "Context windows do keep getting bigger, but this does not solve all problems. node-name and node-description are not the same. A node may be best defined by voluminous amounts of text that exponencially expand the required space.\n",
        "Also there is both an expensiveness and a slowness and an arbitraryness to the approach of asking a generative model to make a multifaceted distance decision,\n",
        "while roughly good enough much of the time this does not scale and is an inherently fragile approach. that being said: generative-depth in looking at vectors does have value that surpasses simple-distance in many cases.\n",
        "\n",
        "So case by case, different solutions are likely practical."
      ],
      "metadata": {
        "id": "6EyM-qdfQtId"
      }
    },
    {
      "cell_type": "markdown",
      "source": [
        "# Chunking\n",
        "- elements of smart chunking\n",
        "- the question of overlap\n",
        "\n",
        "## Chunking and Window-Size\n",
        "- Is, or where is, chunking vestigial?"
      ],
      "metadata": {
        "id": "8e7ItCRkVu5w"
      }
    },
    {
      "cell_type": "markdown",
      "source": [
        "# Model Automation API"
      ],
      "metadata": {
        "id": "L6bRJHOXVwRO"
      }
    },
    {
      "cell_type": "code",
      "source": [],
      "metadata": {
        "id": "ftmYvCtyV62N"
      },
      "execution_count": null,
      "outputs": []
    },
    {
      "cell_type": "markdown",
      "source": [
        "# Structured Generative output:\n",
        "- json\n",
        "- pipes & delimiters\n",
        "\n",
        "## Json structure management\n",
        "- the bottle-neck of models that can't do structured output\n",
        "\n",
        "## json vs. toml"
      ],
      "metadata": {
        "id": "qVf9p9vPV7Kk"
      }
    },
    {
      "cell_type": "markdown",
      "source": [
        "# Methodology of Node Definition & Comparison\n",
        "\n",
        "- edge definiion distance\n",
        "- node definition distance"
      ],
      "metadata": {
        "id": "dHsMK37-brLL"
      }
    },
    {
      "cell_type": "markdown",
      "source": [
        "## Stesp and Roles\n",
        "- If node and edge definition and allocation are separate,\n",
        "vector-generating 'embedding' models may be used for allocating node and edge\n",
        "after they have been defined using a 'generative' model that can output concrete assertions\n",
        "-"
      ],
      "metadata": {
        "id": "Mz1ajxUFb4Se"
      }
    },
    {
      "cell_type": "markdown",
      "source": [
        "# Concerete vs. Abstract Nodes & Edges\n",
        "\n",
        "Going back to our food recipe cooking documents, here is a question:\n",
        "If you make a bunch of nodes and edges based on the recipe-docs, how do you know\n",
        "when you look at the 'graph' how many of the documents themselves fit where in that graph?\n",
        "If the graph is based on random chunks from a homogenous corpus...there is no relationship at all between the number and distribution of 'nodes' and the numer and distribution of documents.\n",
        "\n",
        "While you may have created a highly abstract (and perhaps random-walk random) simplification-space of the corpus of documents, you have zero representation of the documents themselves and their meanings, connections etc.\n",
        "\n",
        "In some cases we may then need stwo super-imposed graphs:\n",
        "1. a completely abstract conceptual graph of concepts nodes and concept connections, and\n",
        "2. a document-meaningful-contextual graph where the documents themselves are (themselves) nodes with connections to (likely both) the conceptual nodes and edges, and in particular: how that 'groups' the documents in different ways: document-to-document edges (and document-to-document connection-concept-nodes).\n",
        "\n"
      ],
      "metadata": {
        "id": "blRkoon5d2zc"
      }
    },
    {
      "cell_type": "code",
      "source": [],
      "metadata": {
        "id": "Yk50XA-cQs21"
      },
      "execution_count": null,
      "outputs": []
    },
    {
      "cell_type": "code",
      "source": [],
      "metadata": {
        "id": "qKtv61IOQgC3"
      },
      "execution_count": null,
      "outputs": []
    }
  ]
}